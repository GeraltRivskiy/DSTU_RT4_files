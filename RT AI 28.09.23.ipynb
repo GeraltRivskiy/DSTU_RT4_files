{
 "cells": [
  {
   "cell_type": "markdown",
   "metadata": {},
   "source": [
    "## Оператор ветвления"
   ]
  },
  {
   "cell_type": "code",
   "execution_count": null,
   "metadata": {},
   "outputs": [],
   "source": [
    "number = int(input('Введите число\\n'))\n",
    "if number%2==0 and number%3==0:\n",
    "    print(f'Число {number} четное и делится на 3')\n",
    "else:\n",
    "    print(f'Число {number} нечетное')"
   ]
  },
  {
   "cell_type": "markdown",
   "metadata": {},
   "source": [
    "## Цикл while"
   ]
  },
  {
   "cell_type": "code",
   "execution_count": 12,
   "metadata": {},
   "outputs": [
    {
     "name": "stdout",
     "output_type": "stream",
     "text": [
      "a=0\n",
      "a=1\n",
      "a=2\n",
      "a=3\n",
      "a=4\n",
      "a=5\n",
      "a=6\n"
     ]
    }
   ],
   "source": [
    "a = 0\n",
    "while a<=10:\n",
    "    #if a==5:\n",
    "    #    a += 1\n",
    "    #    continue\n",
    "    if a==7:\n",
    "        break\n",
    "    print(f'a={a}')\n",
    "    a += 1\n",
    "else:\n",
    "    print('Цикл завершен')"
   ]
  },
  {
   "cell_type": "markdown",
   "metadata": {},
   "source": [
    "## Цикл for"
   ]
  },
  {
   "cell_type": "code",
   "execution_count": 18,
   "metadata": {},
   "outputs": [
    {
     "name": "stdout",
     "output_type": "stream",
     "text": [
      "ind = 0 \t x = 0 \t x^2=0\n",
      "ind = 1 \t x = 10 \t x^2=100\n",
      "ind = 2 \t x = 20 \t x^2=400\n",
      "ind = 3 \t x = 30 \t x^2=900\n",
      "ind = 4 \t x = 40 \t x^2=1600\n",
      "ind = 5 \t x = 50 \t x^2=2500\n",
      "ind = 6 \t x = 60 \t x^2=3600\n",
      "ind = 7 \t x = 70 \t x^2=4900\n",
      "ind = 8 \t x = 80 \t x^2=6400\n",
      "ind = 9 \t x = 90 \t x^2=8100\n"
     ]
    }
   ],
   "source": [
    "a = [0,10,20,30,40,50,60,70,80,90]\n",
    "for ind, x in enumerate(a):\n",
    "    print(f'ind = {ind} \\t x = {x} \\t x^2={x**2}')"
   ]
  },
  {
   "cell_type": "code",
   "execution_count": 21,
   "metadata": {},
   "outputs": [
    {
     "name": "stdout",
     "output_type": "stream",
     "text": [
      "x = 5 \t x^2=25\n",
      "x = 7 \t x^2=49\n",
      "x = 9 \t x^2=81\n"
     ]
    }
   ],
   "source": [
    "for x in range(5,10,2):\n",
    "    print(f'x = {x} \\t x^2={x**2}')"
   ]
  },
  {
   "cell_type": "code",
   "execution_count": 23,
   "metadata": {},
   "outputs": [
    {
     "data": {
      "text/plain": [
       "[0, 2, 4, 6, 8]"
      ]
     },
     "execution_count": 23,
     "metadata": {},
     "output_type": "execute_result"
    }
   ],
   "source": [
    "a=[x for x in range(10) if x%2==0]\n",
    "a"
   ]
  },
  {
   "cell_type": "markdown",
   "metadata": {},
   "source": [
    "## Функции"
   ]
  },
  {
   "cell_type": "code",
   "execution_count": 33,
   "metadata": {},
   "outputs": [],
   "source": [
    "def foo(a, b=10):\n",
    "    return a + b\n",
    "    print(f'c = {c}')"
   ]
  },
  {
   "cell_type": "code",
   "execution_count": 34,
   "metadata": {},
   "outputs": [
    {
     "data": {
      "text/plain": [
       "100600"
      ]
     },
     "execution_count": 34,
     "metadata": {},
     "output_type": "execute_result"
    }
   ],
   "source": [
    "foo(100, 100500)"
   ]
  },
  {
   "cell_type": "code",
   "execution_count": 32,
   "metadata": {},
   "outputs": [
    {
     "name": "stdout",
     "output_type": "stream",
     "text": [
      "c = 15\n",
      "вне функции с=33\n"
     ]
    }
   ],
   "source": [
    "c=33\n",
    "foo(a=5)\n",
    "print(f'вне функции с={c}')"
   ]
  },
  {
   "cell_type": "code",
   "execution_count": null,
   "metadata": {},
   "outputs": [],
   "source": [
    "print('Stroka')\n",
    "a = input('Vvedi stroka')"
   ]
  },
  {
   "cell_type": "markdown",
   "metadata": {},
   "source": [
    "## Задание - генераторы\n",
    "написать свой вариант генератора range"
   ]
  },
  {
   "cell_type": "markdown",
   "metadata": {},
   "source": [
    "## Работа с файлами"
   ]
  },
  {
   "cell_type": "code",
   "execution_count": 37,
   "metadata": {},
   "outputs": [],
   "source": [
    "# запись в файл\n",
    "stroka = 'Как ныне сбирается Вещий Олег\\n'\n",
    "f = open('file1.txt','w', encoding='utf-8')\n",
    "f.write(stroka)\n",
    "f.close()"
   ]
  },
  {
   "cell_type": "code",
   "execution_count": 38,
   "metadata": {},
   "outputs": [],
   "source": [
    "# добавление в файл\n",
    "f = open('file1.txt','a', encoding='utf-8')\n",
    "f.write(stroka)\n",
    "f.close()"
   ]
  },
  {
   "cell_type": "code",
   "execution_count": 39,
   "metadata": {},
   "outputs": [
    {
     "name": "stdout",
     "output_type": "stream",
     "text": [
      "Как ныне сбирается Вещий Олег\n",
      "Как ныне сбирается Вещий Олег\n",
      "\n"
     ]
    }
   ],
   "source": [
    "# чтение из файла\n",
    "f = open('file1.txt','r', encoding='utf-8')\n",
    "s1 = f.read()\n",
    "f.close()\n",
    "print(s1)"
   ]
  },
  {
   "cell_type": "code",
   "execution_count": 40,
   "metadata": {},
   "outputs": [
    {
     "data": {
      "text/plain": [
       "'Как ныне сбирается Вещий Олег\\nКак ныне сбирается Вещий Олег\\n'"
      ]
     },
     "execution_count": 40,
     "metadata": {},
     "output_type": "execute_result"
    }
   ],
   "source": [
    "with open('С://file1.txt', 'r', encoding='utf-8') as f:\n",
    "    s2 = f.read()\n",
    "s2"
   ]
  },
  {
   "cell_type": "markdown",
   "metadata": {},
   "source": [
    "## Задание\n",
    "Рассмотреть файлы из архива, определить самый длинный файл, самый короткий и файл с наибольшим количеством букв m"
   ]
  }
 ],
 "metadata": {
  "kernelspec": {
   "display_name": "Python 3",
   "language": "python",
   "name": "python3"
  },
  "language_info": {
   "codemirror_mode": {
    "name": "ipython",
    "version": 3
   },
   "file_extension": ".py",
   "mimetype": "text/x-python",
   "name": "python",
   "nbconvert_exporter": "python",
   "pygments_lexer": "ipython3",
   "version": "3.9.13"
  },
  "orig_nbformat": 4
 },
 "nbformat": 4,
 "nbformat_minor": 2
}
